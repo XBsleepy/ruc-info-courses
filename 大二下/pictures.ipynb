{
 "cells": [
  {
   "cell_type": "code",
   "execution_count": 14,
   "metadata": {},
   "outputs": [
    {
     "name": "stdout",
     "output_type": "stream",
     "text": [
      "Entropy weights for iris dataset attributes:\n",
      "sepal length (cm): 0.27214881945205116\n",
      "sepal width (cm): 0.27214881945205116\n",
      "petal length (cm): 0.27214881945205116\n",
      "petal width (cm): 0.1835535416438465\n"
     ]
    },
    {
     "data": {
      "text/plain": [
       "numpy.ndarray"
      ]
     },
     "execution_count": 14,
     "metadata": {},
     "output_type": "execute_result"
    }
   ],
   "source": [
    "import numpy as np\n",
    "from sklearn.datasets import load_iris\n",
    "\n",
    "# Load iris dataset\n",
    "iris = load_iris()\n",
    "X = iris.data\n",
    "\n",
    "# Normalize the data\n",
    "X_normalized = (X - X.min(axis=0)) / (X.max(axis=0) - X.min(axis=0))\n",
    "\n",
    "# Calculate entropy of each attribute\n",
    "def entropy(x):\n",
    "    probabilities = np.bincount(x.astype('int64')) / len(x)\n",
    "    entropy = -np.sum([p * np.log2(p) for p in probabilities if p > 0])\n",
    "    return entropy\n",
    "\n",
    "entropies = np.apply_along_axis(entropy, 0, X_normalized)\n",
    "\n",
    "# Calculate weights using entropy\n",
    "weights = (1 - entropies / np.sum(entropies))\n",
    "\n",
    "# Normalize weights\n",
    "weights /= np.sum(weights)\n",
    "\n",
    "print(\"Entropy weights for iris dataset attributes:\")\n",
    "for i, attribute in enumerate(iris.feature_names):\n",
    "    print(f\"{attribute}: {weights[i]}\")\n",
    "type(X)"
   ]
  },
  {
   "cell_type": "code",
   "execution_count": 3,
   "metadata": {},
   "outputs": [
    {
     "data": {
      "image/png": "[encoded data removed]",
      "text/plain": [
       "<Figure size 640x480 with 1 Axes>"
      ]
     },
     "metadata": {},
     "output_type": "display_data"
    }
   ],
   "source": [
    "import matplotlib.pyplot as plt\n",
    "\n",
    "# 数据\n",
    "labels = ['A', 'B', 'C', 'D']\n",
    "sizes = [15, 30, 45, 10]\n",
    "\n",
    "# 创建饼图\n",
    "fig, ax = plt.subplots()\n",
    "wedges, texts, autotexts = ax.pie(sizes, labels=labels, autopct='%1.1f%%', startangle=90)\n",
    "\n",
    "# 标注文本在圆外\n",
    "for i, text in enumerate(texts):\n",
    "    angle = wedges[i].theta2 + wedges[i].theta1\n",
    "    x = 1.1 * wedges[i].center[0]  # 文本位置的 x 坐标\n",
    "    y = 1.1 * wedges[i].center[1]  # 文本位置的 y 坐标\n",
    "    horizontal_alignment = 'left' if x > 0 else 'right'  # 根据文本位置确定水平对齐方式\n",
    "    ax.text(x, y, labels[i], horizontalalignment=horizontal_alignment, verticalalignment='center')\n",
    "plt.show()\n"
   ]
  },
  {
   "cell_type": "code",
   "execution_count": 6,
   "metadata": {},
   "outputs": [
    {
     "name": "stdout",
     "output_type": "stream",
     "text": [
      "Weights for iris dataset attributes using coefficient of variation method:\n",
      "sepal length (cm): 0.3970351732351761\n",
      "sepal width (cm): 0.3946597676128664\n",
      "petal length (cm): 0.11977661366931963\n",
      "petal width (cm): 0.08852844548263775\n"
     ]
    }
   ],
   "source": [
    "import numpy as np\n",
    "from sklearn.datasets import load_iris\n",
    "\n",
    "# Load iris dataset\n",
    "iris = load_iris()\n",
    "X = iris.data\n",
    "\n",
    "# Calculate coefficient of variation for each attribute\n",
    "coeff_var = np.std(X, axis=0) / np.mean(X, axis=0)\n",
    "\n",
    "# Calculate weights using coefficient of variation\n",
    "weights1 = 1 / coeff_var\n",
    "weights1 /= np.sum(weights1)\n",
    "\n",
    "print(\"Weights for iris dataset attributes using coefficient of variation method:\")\n",
    "for i, attribute in enumerate(iris.feature_names):\n",
    "    print(f\"{attribute}: {weights1[i]}\")\n"
   ]
  },
  {
   "cell_type": "code",
   "execution_count": 12,
   "metadata": {},
   "outputs": [
    {
     "name": "stdout",
     "output_type": "stream",
     "text": [
      "Weights for iris dataset attributes using sqrt_weight method:\n",
      "sepal length (cm): 0.3408254145983721\n",
      "sepal width (cm): 0.3398043297860039\n",
      "petal length (cm): 0.1871989876080865\n",
      "petal width (cm): 0.1321712680075376\n"
     ]
    }
   ],
   "source": [
    "#new 指标：\n",
    "import numpy as np\n",
    "def sqrt_weight (x,y):\n",
    "    return np.sqrt(x*y)\n",
    "weight=np.apply_along_axis(sqrt_weight,0,weights,weights1)\n",
    "weight/=np.sum(weight)\n",
    "print(\"Weights for iris dataset attributes using sqrt_weight method:\")\n",
    "for i, attribute in enumerate(iris.feature_names):\n",
    "    print(f\"{attribute}: {weight[i]}\")"
   ]
  },
  {
   "cell_type": "code",
   "execution_count": 13,
   "metadata": {},
   "outputs": [
    {
     "name": "stdout",
     "output_type": "stream",
     "text": [
      "Pairwise Comparison Matrix:\n",
      "[[1.         0.33333333 3.         3.        ]\n",
      " [3.         1.         5.         5.        ]\n",
      " [0.33333333 0.2        1.         1.        ]\n",
      " [0.33333333 0.2        1.         1.        ]]\n",
      "\n",
      "Normalized Matrix:\n",
      "[[0.75983569 0.25327856 2.27950706 2.27950706]\n",
      " [1.01942655 0.33980885 1.69904424 1.69904424]\n",
      " [0.65599656 0.39359793 1.96798967 1.96798967]\n",
      " [0.65599656 0.39359793 1.96798967 1.96798967]]\n",
      "\n",
      "Eigenvector:\n",
      "[0.27418718+0.j 0.23602667+0.j 0.24489308+0.j 0.24489308+0.j]\n",
      "\n",
      "Consistency Index: (0.3499312653103817+0j)\n",
      "Consistency Ratio: (0.38881251701153524+0j)\n"
     ]
    }
   ],
   "source": [
    "import numpy as np\n",
    "from sklearn.datasets import load_iris\n",
    "\n",
    "# Load iris dataset\n",
    "iris = load_iris()\n",
    "X = iris.data\n",
    "\n",
    "# Define pairwise comparison matrix\n",
    "comparison_matrix = np.array([\n",
    "    [1, 1/3, 3, 3],\n",
    "    [3, 1, 5, 5],\n",
    "    [1/3, 1/5, 1, 1],\n",
    "    [1/3, 1/5, 1, 1]\n",
    "])\n",
    "\n",
    "# Calculate the geometric mean of each row\n",
    "geometric_mean = np.prod(comparison_matrix, axis=1) ** (1 / len(comparison_matrix))\n",
    "\n",
    "# Normalize the matrix\n",
    "normalized_matrix = comparison_matrix / geometric_mean.reshape(-1, 1)\n",
    "\n",
    "# Calculate the eigenvector of the normalized matrix\n",
    "eigenvalues, eigenvectors = np.linalg.eig(normalized_matrix)\n",
    "max_eigenvalue_index = np.argmax(eigenvalues)\n",
    "eigenvector = eigenvectors[:, max_eigenvalue_index]\n",
    "eigenvector /= np.sum(eigenvector)\n",
    "\n",
    "# Calculate the consistency index\n",
    "n = len(eigenvector)\n",
    "lambda_max = max(eigenvalues)\n",
    "consistency_index = (lambda_max - n) / (n - 1)\n",
    "\n",
    "# Calculate the consistency ratio\n",
    "random_index = {1: 0, 2: 0, 3: 0.58, 4: 0.90, 5: 1.12, 6: 1.24, 7: 1.32, 8: 1.41, 9: 1.45}\n",
    "random_eigenvalue = random_index[n]\n",
    "consistency_ratio = consistency_index / random_eigenvalue\n",
    "\n",
    "print(\"Pairwise Comparison Matrix:\")\n",
    "print(comparison_matrix)\n",
    "print(\"\\nNormalized Matrix:\")\n",
    "print(normalized_matrix)\n",
    "print(\"\\nEigenvector:\")\n",
    "print(eigenvector)\n",
    "print(\"\\nConsistency Index:\", consistency_index)\n",
    "print(\"Consistency Ratio:\", consistency_ratio)\n"
   ]
  },
  {
   "cell_type": "code",
   "execution_count": 15,
   "metadata": {},
   "outputs": [
    {
     "name": "stderr",
     "output_type": "stream",
     "text": [
      "C:\\Users\\Baijy\\AppData\\Local\\Temp\\ipykernel_14772\\2638655768.py:1: DeprecationWarning: \n",
      "Pyarrow will become a required dependency of pandas in the next major release of pandas (pandas 3.0),\n",
      "(to allow more performant data types, such as the Arrow string type, and better interoperability with other libraries)\n",
      "but was not found to be installed on your system.\n",
      "If this would cause problems for you,\n",
      "please provide us feedback at https://github.com/pandas-dev/pandas/issues/54466\n",
      "        \n",
      "  import pandas as pd\n"
     ]
    }
   ],
   "source": [
    "import pandas as pd\n",
    "df=pd.read_csv('apple_quality.csv')"
   ]
  },
  {
   "cell_type": "code",
   "execution_count": 23,
   "metadata": {},
   "outputs": [
    {
     "name": "stdout",
     "output_type": "stream",
     "text": [
      "各列权重:\n",
      "A_id           0.857143\n",
      "Size           0.857143\n",
      "Weight         0.857143\n",
      "Sweetness      0.857143\n",
      "Crunchiness    0.857143\n",
      "Juiciness      0.857143\n",
      "Ripeness       0.857143\n",
      "dtype: float64\n"
     ]
    }
   ],
   "source": [
    "df.head()\n",
    "df.describe()\n",
    "import pandas as pd\n",
    "import numpy as np\n",
    "\n",
    "import pandas as pd\n",
    "import numpy as np\n",
    "\n",
    "def entropy(series):\n",
    "    # 计算给定列的信息熵\n",
    "    p = series.value_counts() / len(series)\n",
    "    return -np.sum(p * np.log2(p))\n",
    "\n",
    "def entropy_weight(df):\n",
    "    # 选择数字列\n",
    "    numeric_cols = df.select_dtypes(include=[np.number])\n",
    "\n",
    "    # 计算每列的信息熵\n",
    "    entropies = numeric_cols.apply(entropy)\n",
    "\n",
    "    # 计算每列的权重\n",
    "    weights = (1 - entropies / np.sum(entropies))\n",
    "\n",
    "    return weights\n",
    "\n",
    "# 示例DataFrame\n",
    "# 计算权重\n",
    "weights = entropy_weight(df)\n",
    "print(\"各列权重:\")\n",
    "print(weights)\n",
    "\n"
   ]
  },
  {
   "cell_type": "code",
   "execution_count": 24,
   "metadata": {},
   "outputs": [
    {
     "name": "stdout",
     "output_type": "stream",
     "text": [
      "各列权重:\n",
      "A_id           0.938637\n",
      "Size          -0.141436\n",
      "Weight        -0.334762\n",
      "Sweetness     -0.131241\n",
      "Crunchiness    0.380859\n",
      "Juiciness      0.143830\n",
      "Ripeness       0.144113\n",
      "dtype: float64\n"
     ]
    }
   ],
   "source": [
    "import pandas as pd\n",
    "import numpy as np\n",
    "\n",
    "def coefficient_of_variation(series):\n",
    "    # 计算给定列的变异系数\n",
    "    std = series.std()\n",
    "    mean = series.mean()\n",
    "    return (std / mean) * 100\n",
    "\n",
    "def cv_weight(df):\n",
    "    # 选择数字列\n",
    "    numeric_cols = df.select_dtypes(include=[np.number])\n",
    "    # 计算每列的变异系数\n",
    "    cvs = numeric_cols.apply(coefficient_of_variation)\n",
    "    # 计算每列的权重\n",
    "    weights = 1 / cvs\n",
    "    # 标准化权重\n",
    "    weights = weights / weights.sum()\n",
    "    return weights\n",
    "\n",
    "\n",
    "\n",
    "# 计算权重\n",
    "weights = cv_weight(df)\n",
    "print(\"各列权重:\")\n",
    "print(weights)\n"
   ]
  },
  {
   "cell_type": "code",
   "execution_count": 29,
   "metadata": {},
   "outputs": [
    {
     "name": "stdout",
     "output_type": "stream",
     "text": [
      "           x         y\n",
      "0   1.000000  2.000000\n",
      "1   1.040404  2.022403\n",
      "2   1.080808  2.046322\n",
      "3   1.121212  2.071757\n",
      "4   1.161616  2.098707\n",
      "..       ...       ...\n",
      "95  4.838384  5.617240\n",
      "96  4.878788  5.707858\n",
      "97  4.919192  5.801857\n",
      "98  4.959596  5.899238\n",
      "99  5.000000  6.000000\n",
      "\n",
      "[100 rows x 2 columns]\n"
     ]
    },
    {
     "data": {
      "text/plain": [
       "<matplotlib.collections.PathCollection at 0x1b900233910>"
      ]
     },
     "execution_count": 29,
     "metadata": {},
     "output_type": "execute_result"
    },
    {
     "data": {
      "image/png": "[encoded data removed]",
      "text/plain": [
       "<Figure size 640x480 with 2 Axes>"
      ]
     },
     "metadata": {},
     "output_type": "display_data"
    }
   ],
   "source": [
    "import pandas as pd\n",
    "import numpy as np\n",
    "from scipy.interpolate import interp1d\n",
    "\n",
    "# 创建示例数据\n",
    "data = {\n",
    "    'x': [1, 2, 3, 4, 5],\n",
    "    'y': [2, 3, 4.5, 4.5, 6]\n",
    "}\n",
    "df = pd.DataFrame(data)\n",
    "\n",
    "# 进行多项式回归插值\n",
    "poly_interp = interp1d(df['x'], df['y'], kind='quadratic')\n",
    "\n",
    "# 生成插值后的 x 值\n",
    "new_x = np.linspace(df['x'].min(), df['x'].max(), 100)\n",
    "\n",
    "# 计算插值后的 y 值\n",
    "new_y = poly_interp(new_x)\n",
    "\n",
    "# 创建新的 DataFrame 存储插值结果\n",
    "interpolated_df = pd.DataFrame({'x': new_x, 'y': new_y})\n",
    "\n",
    "print(interpolated_df)\n",
    "import matplotlib.pyplot as plt\n",
    "plt.subplot(1, 2, 1)\n",
    "plt.scatter(df['x'], df['y'])\n",
    "plt.title('Original Data')\n",
    "plt.subplot(1, 2, 2)\n",
    "plt.scatter(interpolated_df['x'], interpolated_df['y'])\n"
   ]
  }
 ],
 "metadata": {
  "kernelspec": {
   "display_name": "newfortry",
   "language": "python",
   "name": "python3"
  },
  "language_info": {
   "codemirror_mode": {
    "name": "ipython",
    "version": 3
   },
   "file_extension": ".py",
   "mimetype": "text/x-python",
   "name": "python",
   "nbconvert_exporter": "python",
   "pygments_lexer": "ipython3",
   "version": "3.9.18"
  }
 },
 "nbformat": 4,
 "nbformat_minor": 2
}
